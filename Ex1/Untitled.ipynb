{
 "cells": [
  {
   "cell_type": "code",
   "execution_count": 2,
   "id": "ae43b3de",
   "metadata": {},
   "outputs": [
    {
     "data": {
      "text/plain": [
       "0.00020423076923076918"
      ]
     },
     "execution_count": 2,
     "metadata": {},
     "output_type": "execute_result"
    }
   ],
   "source": [
    "2*8.85*10**(-12)/(2.6*10**(-6))*30"
   ]
  },
  {
   "cell_type": "code",
   "execution_count": 3,
   "id": "bced446a",
   "metadata": {},
   "outputs": [],
   "source": [
    "import math as mt"
   ]
  },
  {
   "cell_type": "code",
   "execution_count": 4,
   "id": "aeb846cc",
   "metadata": {},
   "outputs": [
    {
     "data": {
      "text/plain": [
       "0.0030897950185989143"
      ]
     },
     "execution_count": 4,
     "metadata": {},
     "output_type": "execute_result"
    }
   ],
   "source": [
    "0.035*mt.sqrt(3)/2*1/9.81"
   ]
  },
  {
   "cell_type": "code",
   "execution_count": 5,
   "id": "d82ccc1a",
   "metadata": {},
   "outputs": [
    {
     "data": {
      "text/plain": [
       "-1.1666666666666668e-07"
      ]
     },
     "execution_count": 5,
     "metadata": {},
     "output_type": "execute_result"
    }
   ],
   "source": [
    "-3.5*10**(-2)/(2*1.5*10**(5))"
   ]
  },
  {
   "cell_type": "code",
   "execution_count": 6,
   "id": "21df80fa",
   "metadata": {},
   "outputs": [
    {
     "data": {
      "text/plain": [
       "6.179499999999999e-06"
      ]
     },
     "execution_count": 6,
     "metadata": {},
     "output_type": "execute_result"
    }
   ],
   "source": [
    "2*8.85*10**(-12)*1.35*10**5-(-3.79*10**(-6))"
   ]
  },
  {
   "cell_type": "code",
   "execution_count": 8,
   "id": "371c440b",
   "metadata": {},
   "outputs": [
    {
     "data": {
      "text/plain": [
       "-5.63276836158192"
      ]
     },
     "execution_count": 8,
     "metadata": {},
     "output_type": "execute_result"
    }
   ],
   "source": [
    "1/(2*8.85*10**(-12))*(-3.79-6.18)*(10**(-6))/10**5"
   ]
  },
  {
   "cell_type": "code",
   "execution_count": null,
   "id": "2001c8e5",
   "metadata": {},
   "outputs": [],
   "source": [
    "4*10**(-9)*(6)*10**(-9)"
   ]
  },
  {
   "cell_type": "code",
   "execution_count": 9,
   "id": "a02edf60",
   "metadata": {},
   "outputs": [
    {
     "data": {
      "text/plain": [
       "220.725"
      ]
     },
     "execution_count": 9,
     "metadata": {},
     "output_type": "execute_result"
    }
   ],
   "source": [
    "1.5*10**(-12)*9.81/(2*10**(-15))*0.03"
   ]
  },
  {
   "cell_type": "code",
   "execution_count": 10,
   "id": "c1d19a54",
   "metadata": {},
   "outputs": [
    {
     "data": {
      "text/plain": [
       "6.0"
      ]
     },
     "execution_count": 10,
     "metadata": {},
     "output_type": "execute_result"
    }
   ],
   "source": [
    "1/(1/2+1/3)+1.6+3.2"
   ]
  },
  {
   "cell_type": "code",
   "execution_count": 12,
   "id": "70b8cead",
   "metadata": {},
   "outputs": [
    {
     "data": {
      "text/plain": [
       "0.18072000000000002"
      ]
     },
     "execution_count": 12,
     "metadata": {},
     "output_type": "execute_result"
    }
   ],
   "source": [
    "10.04*10**(-8)*4.5/(2.5*10**(-6))"
   ]
  },
  {
   "cell_type": "code",
   "execution_count": 14,
   "id": "39c3f6a7",
   "metadata": {},
   "outputs": [
    {
     "data": {
      "text/plain": [
       "1.952447608241227"
      ]
     },
     "execution_count": 14,
     "metadata": {},
     "output_type": "execute_result"
    }
   ],
   "source": [
    "1.2/(1.7*10**(-8))*mt.pi*(0.00018/2)**2/0.92"
   ]
  }
 ],
 "metadata": {
  "kernelspec": {
   "display_name": "Python 3 (ipykernel)",
   "language": "python",
   "name": "python3"
  },
  "language_info": {
   "codemirror_mode": {
    "name": "ipython",
    "version": 3
   },
   "file_extension": ".py",
   "mimetype": "text/x-python",
   "name": "python",
   "nbconvert_exporter": "python",
   "pygments_lexer": "ipython3",
   "version": "3.9.13"
  }
 },
 "nbformat": 4,
 "nbformat_minor": 5
}
