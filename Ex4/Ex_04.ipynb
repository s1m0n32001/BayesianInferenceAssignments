{
 "cells": [
  {
   "cell_type": "code",
   "execution_count": 2,
   "id": "198a213e",
   "metadata": {},
   "outputs": [],
   "source": [
    "library(tidyverse)"
   ]
  },
  {
   "cell_type": "markdown",
   "id": "0a4005c7",
   "metadata": {},
   "source": [
    "#### Exercise 1\n",
    "• the number of claims received by an insurance company during a week follows a Poisson distri-\n",
    "bution with unknown mean (μ)\n",
    "• the number of claims, per week, observed ovr a ten week period are:\n",
    "5, 8, 4, 6, 11, 6, 6, 5, 6, 4\n",
    "(a) suppose to use a prior uniform distribution for μ\n",
    "- find the posterior distribution for μ and compute the posterior mean, median and variance\n",
    "- plot the posterior distribution and the 95% credibility interval\n",
    "(b) suppose to use a Jeffreys’ prior for μ (g(μ) ∝ 1/sqrtμ)\n",
    "- find the posterior distribution for μ and compute the posterior mean, median and variance\n",
    "- plot the posterior distribution and the 95% credibility interval\n",
    "(c) evaluate a 95% credibility interval for the results obtained with both priors. Compare the result\n",
    "with that obtained using a normal approximation for the posterior distribution, with the same\n",
    "mean and standard deviation"
   ]
  },
  {
   "cell_type": "code",
   "execution_count": null,
   "id": "3af28ebe",
   "metadata": {},
   "outputs": [],
   "source": []
  }
 ],
 "metadata": {
  "kernelspec": {
   "display_name": "R",
   "language": "R",
   "name": "ir"
  },
  "language_info": {
   "codemirror_mode": "r",
   "file_extension": ".r",
   "mimetype": "text/x-r-source",
   "name": "R",
   "pygments_lexer": "r",
   "version": "4.1.2"
  }
 },
 "nbformat": 4,
 "nbformat_minor": 5
}
