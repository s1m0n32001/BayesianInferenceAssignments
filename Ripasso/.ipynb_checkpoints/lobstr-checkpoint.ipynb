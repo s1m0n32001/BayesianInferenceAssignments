{
 "cells": [
  {
   "cell_type": "code",
   "execution_count": 1,
   "id": "3ad5f895",
   "metadata": {},
   "outputs": [
    {
     "data": {
      "text/html": [
       "'0x5599b6e7e858'"
      ],
      "text/latex": [
       "'0x5599b6e7e858'"
      ],
      "text/markdown": [
       "'0x5599b6e7e858'"
      ],
      "text/plain": [
       "[1] \"0x5599b6e7e858\""
      ]
     },
     "metadata": {},
     "output_type": "display_data"
    }
   ],
   "source": [
    "v <- c(1,2,3)\n",
    "lobstr::obj_addr(v)"
   ]
  },
  {
   "cell_type": "code",
   "execution_count": 2,
   "id": "9e3c6320",
   "metadata": {},
   "outputs": [
    {
     "data": {
      "text/html": [
       "'0x5599b6e7e858'"
      ],
      "text/latex": [
       "'0x5599b6e7e858'"
      ],
      "text/markdown": [
       "'0x5599b6e7e858'"
      ],
      "text/plain": [
       "[1] \"0x5599b6e7e858\""
      ]
     },
     "metadata": {},
     "output_type": "display_data"
    }
   ],
   "source": [
    "w <- v\n",
    "lobstr::obj_addr(w)"
   ]
  },
  {
   "cell_type": "code",
   "execution_count": 3,
   "id": "bc97a452",
   "metadata": {},
   "outputs": [
    {
     "data": {
      "text/html": [
       "'0x5599b5bc9d78'"
      ],
      "text/latex": [
       "'0x5599b5bc9d78'"
      ],
      "text/markdown": [
       "'0x5599b5bc9d78'"
      ],
      "text/plain": [
       "[1] \"0x5599b5bc9d78\""
      ]
     },
     "metadata": {},
     "output_type": "display_data"
    }
   ],
   "source": [
    "w[1] <- 10\n",
    "lobstr::obj_addr(w)"
   ]
  },
  {
   "cell_type": "code",
   "execution_count": 4,
   "id": "00de6022",
   "metadata": {},
   "outputs": [],
   "source": [
    "df <- data.frame(\"a\" = c(1,2,3,4), \"b\" = c(\"ciao\", \"come\", \"stai\", \"?\"))"
   ]
  },
  {
   "cell_type": "code",
   "execution_count": 5,
   "id": "9ea10d44",
   "metadata": {},
   "outputs": [
    {
     "data": {
      "text/html": [
       "<table class=\"dataframe\">\n",
       "<caption>A data.frame: 4 × 2</caption>\n",
       "<thead>\n",
       "\t<tr><th scope=col>a</th><th scope=col>b</th></tr>\n",
       "\t<tr><th scope=col>&lt;dbl&gt;</th><th scope=col>&lt;chr&gt;</th></tr>\n",
       "</thead>\n",
       "<tbody>\n",
       "\t<tr><td>1</td><td>ciao</td></tr>\n",
       "\t<tr><td>2</td><td>come</td></tr>\n",
       "\t<tr><td>3</td><td>stai</td></tr>\n",
       "\t<tr><td>4</td><td>?   </td></tr>\n",
       "</tbody>\n",
       "</table>\n"
      ],
      "text/latex": [
       "A data.frame: 4 × 2\n",
       "\\begin{tabular}{ll}\n",
       " a & b\\\\\n",
       " <dbl> & <chr>\\\\\n",
       "\\hline\n",
       "\t 1 & ciao\\\\\n",
       "\t 2 & come\\\\\n",
       "\t 3 & stai\\\\\n",
       "\t 4 & ?   \\\\\n",
       "\\end{tabular}\n"
      ],
      "text/markdown": [
       "\n",
       "A data.frame: 4 × 2\n",
       "\n",
       "| a &lt;dbl&gt; | b &lt;chr&gt; |\n",
       "|---|---|\n",
       "| 1 | ciao |\n",
       "| 2 | come |\n",
       "| 3 | stai |\n",
       "| 4 | ?    |\n",
       "\n"
      ],
      "text/plain": [
       "  a b   \n",
       "1 1 ciao\n",
       "2 2 come\n",
       "3 3 stai\n",
       "4 4 ?   "
      ]
     },
     "metadata": {},
     "output_type": "display_data"
    }
   ],
   "source": [
    "df"
   ]
  },
  {
   "cell_type": "code",
   "execution_count": 6,
   "id": "73837b46",
   "metadata": {
    "scrolled": false
   },
   "outputs": [
    {
     "data": {
      "text/html": [
       "'0x5599b5ce2e58'"
      ],
      "text/latex": [
       "'0x5599b5ce2e58'"
      ],
      "text/markdown": [
       "'0x5599b5ce2e58'"
      ],
      "text/plain": [
       "[1] \"0x5599b5ce2e58\""
      ]
     },
     "metadata": {},
     "output_type": "display_data"
    }
   ],
   "source": [
    "lobstr::obj_addr(df)"
   ]
  },
  {
   "cell_type": "code",
   "execution_count": 7,
   "id": "0e71b2f6",
   "metadata": {},
   "outputs": [
    {
     "data": {
      "text/html": [
       "'0x5599b5e64708'"
      ],
      "text/latex": [
       "'0x5599b5e64708'"
      ],
      "text/markdown": [
       "'0x5599b5e64708'"
      ],
      "text/plain": [
       "[1] \"0x5599b5e64708\""
      ]
     },
     "metadata": {},
     "output_type": "display_data"
    }
   ],
   "source": [
    "lobstr::obj_addr(df$\"a\")"
   ]
  },
  {
   "cell_type": "code",
   "execution_count": 8,
   "id": "0ebdfaa8",
   "metadata": {},
   "outputs": [
    {
     "data": {
      "text/html": [
       "'0x5599b5e646b8'"
      ],
      "text/latex": [
       "'0x5599b5e646b8'"
      ],
      "text/markdown": [
       "'0x5599b5e646b8'"
      ],
      "text/plain": [
       "[1] \"0x5599b5e646b8\""
      ]
     },
     "metadata": {},
     "output_type": "display_data"
    }
   ],
   "source": [
    "lobstr::obj_addr(df$\"b\")"
   ]
  },
  {
   "cell_type": "code",
   "execution_count": 9,
   "id": "e33d7952",
   "metadata": {},
   "outputs": [],
   "source": [
    "# Copy\n",
    "\n",
    "df2 <- df"
   ]
  },
  {
   "cell_type": "code",
   "execution_count": 10,
   "id": "efd61efc",
   "metadata": {},
   "outputs": [
    {
     "data": {
      "text/html": [
       "'0x5599b5ce2e58'"
      ],
      "text/latex": [
       "'0x5599b5ce2e58'"
      ],
      "text/markdown": [
       "'0x5599b5ce2e58'"
      ],
      "text/plain": [
       "[1] \"0x5599b5ce2e58\""
      ]
     },
     "metadata": {},
     "output_type": "display_data"
    }
   ],
   "source": [
    "lobstr::obj_addr(df)"
   ]
  },
  {
   "cell_type": "code",
   "execution_count": 11,
   "id": "1bb81d63",
   "metadata": {},
   "outputs": [
    {
     "data": {
      "text/html": [
       "'0x5599b5e64708'"
      ],
      "text/latex": [
       "'0x5599b5e64708'"
      ],
      "text/markdown": [
       "'0x5599b5e64708'"
      ],
      "text/plain": [
       "[1] \"0x5599b5e64708\""
      ]
     },
     "metadata": {},
     "output_type": "display_data"
    }
   ],
   "source": [
    "lobstr::obj_addr(df2$\"a\")"
   ]
  },
  {
   "cell_type": "code",
   "execution_count": 13,
   "id": "68249134",
   "metadata": {},
   "outputs": [],
   "source": [
    "df2[1, ] <- c(10, \"pippo\")"
   ]
  },
  {
   "cell_type": "code",
   "execution_count": 14,
   "id": "5bcd6a7b",
   "metadata": {},
   "outputs": [
    {
     "data": {
      "text/html": [
       "<table class=\"dataframe\">\n",
       "<caption>A data.frame: 4 × 2</caption>\n",
       "<thead>\n",
       "\t<tr><th scope=col>a</th><th scope=col>b</th></tr>\n",
       "\t<tr><th scope=col>&lt;chr&gt;</th><th scope=col>&lt;chr&gt;</th></tr>\n",
       "</thead>\n",
       "<tbody>\n",
       "\t<tr><td>10</td><td>pippo</td></tr>\n",
       "\t<tr><td>2 </td><td>come </td></tr>\n",
       "\t<tr><td>3 </td><td>stai </td></tr>\n",
       "\t<tr><td>4 </td><td>?    </td></tr>\n",
       "</tbody>\n",
       "</table>\n"
      ],
      "text/latex": [
       "A data.frame: 4 × 2\n",
       "\\begin{tabular}{ll}\n",
       " a & b\\\\\n",
       " <chr> & <chr>\\\\\n",
       "\\hline\n",
       "\t 10 & pippo\\\\\n",
       "\t 2  & come \\\\\n",
       "\t 3  & stai \\\\\n",
       "\t 4  & ?    \\\\\n",
       "\\end{tabular}\n"
      ],
      "text/markdown": [
       "\n",
       "A data.frame: 4 × 2\n",
       "\n",
       "| a &lt;chr&gt; | b &lt;chr&gt; |\n",
       "|---|---|\n",
       "| 10 | pippo |\n",
       "| 2  | come  |\n",
       "| 3  | stai  |\n",
       "| 4  | ?     |\n",
       "\n"
      ],
      "text/plain": [
       "  a  b    \n",
       "1 10 pippo\n",
       "2 2  come \n",
       "3 3  stai \n",
       "4 4  ?    "
      ]
     },
     "metadata": {},
     "output_type": "display_data"
    }
   ],
   "source": [
    "df2"
   ]
  },
  {
   "cell_type": "code",
   "execution_count": 15,
   "id": "ae50c543",
   "metadata": {},
   "outputs": [
    {
     "data": {
      "text/html": [
       "'0x5599b5de52b8'"
      ],
      "text/latex": [
       "'0x5599b5de52b8'"
      ],
      "text/markdown": [
       "'0x5599b5de52b8'"
      ],
      "text/plain": [
       "[1] \"0x5599b5de52b8\""
      ]
     },
     "metadata": {},
     "output_type": "display_data"
    }
   ],
   "source": [
    "lobstr::obj_addr(df2)"
   ]
  },
  {
   "cell_type": "code",
   "execution_count": 16,
   "id": "8318c4f1",
   "metadata": {},
   "outputs": [
    {
     "data": {
      "text/html": [
       "'0x5599b6109908'"
      ],
      "text/latex": [
       "'0x5599b6109908'"
      ],
      "text/markdown": [
       "'0x5599b6109908'"
      ],
      "text/plain": [
       "[1] \"0x5599b6109908\""
      ]
     },
     "metadata": {},
     "output_type": "display_data"
    }
   ],
   "source": [
    "lobstr::obj_addr(df2$\"a\")"
   ]
  }
 ],
 "metadata": {
  "kernelspec": {
   "display_name": "R",
   "language": "R",
   "name": "ir"
  },
  "language_info": {
   "codemirror_mode": "r",
   "file_extension": ".r",
   "mimetype": "text/x-r-source",
   "name": "R",
   "pygments_lexer": "r",
   "version": "4.1.2"
  }
 },
 "nbformat": 4,
 "nbformat_minor": 5
}
