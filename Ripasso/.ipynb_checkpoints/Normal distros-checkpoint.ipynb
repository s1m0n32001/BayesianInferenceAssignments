{
 "cells": [
  {
   "cell_type": "code",
   "execution_count": 4,
   "id": "b8edb13f",
   "metadata": {},
   "outputs": [
    {
     "ename": "ERROR",
     "evalue": "Error in (1/s_new^2 + 1/s^2) % > % sqrt: could not find function \"% > %\"\n",
     "output_type": "error",
     "traceback": [
      "Error in (1/s_new^2 + 1/s^2) % > % sqrt: could not find function \"% > %\"\nTraceback:\n"
     ]
    }
   ],
   "source": [
    "m_old <- 30 #previous mean\n",
    "s <- 4 #std \n",
    "\n",
    "#So prior is Norm(30, 4^2)\n",
    "n <- 12\n",
    "m_new <- 32 #evaluated across 12 fish, each measurement has std = 2\n",
    "s_new <- 2/sqrt(n)\n",
    "\n",
    "\n",
    "m_post <- (m_new/s_new^2 + m_old / s^2)/(1/s_new^2 + 1/s^2)\n",
    "s_post <- 1/(1/s_new^2 + 1/s^2) % > % sqrt\n",
    "\n"
   ]
  }
 ],
 "metadata": {
  "kernelspec": {
   "display_name": "R",
   "language": "R",
   "name": "ir"
  },
  "language_info": {
   "codemirror_mode": "r",
   "file_extension": ".r",
   "mimetype": "text/x-r-source",
   "name": "R",
   "pygments_lexer": "r",
   "version": "4.1.2"
  }
 },
 "nbformat": 4,
 "nbformat_minor": 5
}
