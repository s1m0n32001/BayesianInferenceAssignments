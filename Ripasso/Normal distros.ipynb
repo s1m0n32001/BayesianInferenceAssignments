{
 "cells": [
  {
   "cell_type": "code",
   "execution_count": 6,
   "id": "bff0a920",
   "metadata": {},
   "outputs": [],
   "source": [
    "library(tidyverse)"
   ]
  },
  {
   "cell_type": "code",
   "execution_count": 9,
   "id": "251e6427",
   "metadata": {},
   "outputs": [
    {
     "name": "stdout",
     "output_type": "stream",
     "text": [
      "31.95918 0.5714286"
     ]
    }
   ],
   "source": [
    "m_old <- 30 #previous mean\n",
    "s <- 4 #std \n",
    "\n",
    "#So prior is Norm(30, 4^2)\n",
    "n <- 12\n",
    "m_new <- 32 #evaluated across 12 fish, each measurement has std = 2\n",
    "s_new <- 2/sqrt(n)\n",
    "\n",
    "\n",
    "m_post <- (m_new/s_new^2 + m_old / s^2)/(1/s_new^2 + 1/s^2)\n",
    "s_post <- 1/(1/s_new^2 + 1/s^2) %>% sqrt\n",
    "\n",
    "cat(m_post, s_post)"
   ]
  },
  {
   "cell_type": "code",
   "execution_count": 13,
   "id": "e396b57b",
   "metadata": {},
   "outputs": [
    {
     "name": "stdout",
     "output_type": "stream",
     "text": [
      "[1] 0.3333333\n",
      "32 0.5773503"
     ]
    }
   ],
   "source": [
    "# Student 2 --> uniform prior (kind of like Norm(0, Inf))\n",
    "\n",
    "m_post <- m_new\n",
    "s_post <- s_new\n",
    "\n",
    "cat(m_post, s_post)"
   ]
  },
  {
   "cell_type": "markdown",
   "id": "55d4b22f",
   "metadata": {},
   "source": [
    "#### Frequentist test"
   ]
  },
  {
   "cell_type": "code",
   "execution_count": 14,
   "id": "29bb5b1d",
   "metadata": {},
   "outputs": [
    {
     "name": "stdout",
     "output_type": "stream",
     "text": [
      "z =  1.732051"
     ]
    }
   ],
   "source": [
    "# H0 --> mu <=31 \n",
    "mu_h0 <- 31\n",
    "sigma <- 2/sqrt(n)\n",
    "#Probability of it being 32? P( (y-mu)/sigma >= z)\n",
    "z = (m_new - mu_h0) / sigma \n",
    "cat(\"z = \", z)"
   ]
  },
  {
   "cell_type": "code",
   "execution_count": 15,
   "id": "5349a59f",
   "metadata": {},
   "outputs": [
    {
     "data": {
      "text/html": [
       "0.0416322583317752"
      ],
      "text/latex": [
       "0.0416322583317752"
      ],
      "text/markdown": [
       "0.0416322583317752"
      ],
      "text/plain": [
       "[1] 0.04163226"
      ]
     },
     "metadata": {},
     "output_type": "display_data"
    }
   ],
   "source": [
    "1 - pnorm(z, 0, 1)"
   ]
  },
  {
   "cell_type": "markdown",
   "id": "6bdfd0a7",
   "metadata": {},
   "source": [
    "#### Michelson Morley --> Bayesian inference"
   ]
  },
  {
   "cell_type": "code",
   "execution_count": 24,
   "id": "f853181f",
   "metadata": {},
   "outputs": [],
   "source": [
    "m_prior <- 300000\n",
    "s_prior <- 500\n",
    "\n",
    "m_79 <- 299909\n",
    "s_79 <- sqrt(499)\n",
    "\n",
    "m_82 <- 299757\n",
    "s_82 <- sqrt(434)\n",
    "\n",
    "m_d <- m_79 - m_82\n",
    "s_d <- sqrt(s_79^2 + s_82^2)"
   ]
  },
  {
   "cell_type": "code",
   "execution_count": 25,
   "id": "9ccb06d6",
   "metadata": {},
   "outputs": [
    {
     "name": "stdout",
     "output_type": "stream",
     "text": [
      "152 30.54505"
     ]
    }
   ],
   "source": [
    "cat(m_d, s_d)"
   ]
  },
  {
   "cell_type": "code",
   "execution_count": 30,
   "id": "84e6f15b",
   "metadata": {},
   "outputs": [
    {
     "data": {
      "image/png": "[encoded data removed]",
      "text/plain": [
       "plot without title"
      ]
     },
     "metadata": {
      "image/png": {
       "height": 420,
       "width": 420
      }
     },
     "output_type": "display_data"
    }
   ],
   "source": [
    "xs <- seq(from = -100, to = 400, by = 0.001)\n",
    "post <- dnorm(xs, m_d, sd = s_d)\n",
    "plot(xs, post, \"l\")"
   ]
  },
  {
   "cell_type": "code",
   "execution_count": 32,
   "id": "d3c90b18",
   "metadata": {},
   "outputs": [
    {
     "name": "stdout",
     "output_type": "stream",
     "text": [
      "92.1328 211.8672"
     ]
    }
   ],
   "source": [
    "cat(qnorm(0.025, m_d, sd = s_d), qnorm(0.975, m_d, sd = s_d))"
   ]
  },
  {
   "cell_type": "code",
   "execution_count": 34,
   "id": "ce99e4ae",
   "metadata": {},
   "outputs": [
    {
     "name": "stdout",
     "output_type": "stream",
     "text": [
      "-4.976257"
     ]
    }
   ],
   "source": [
    "z <- (0 - m_d)/s_d\n",
    "cat(z)"
   ]
  },
  {
   "cell_type": "code",
   "execution_count": 35,
   "id": "20e82ca5",
   "metadata": {
    "scrolled": true
   },
   "outputs": [
    {
     "data": {
      "text/html": [
       "3.24128511732421e-07"
      ],
      "text/latex": [
       "3.24128511732421e-07"
      ],
      "text/markdown": [
       "3.24128511732421e-07"
      ],
      "text/plain": [
       "[1] 3.241285e-07"
      ]
     },
     "metadata": {},
     "output_type": "display_data"
    }
   ],
   "source": [
    "pnorm(z, 0, 1)"
   ]
  },
  {
   "cell_type": "markdown",
   "id": "1d935cf4",
   "metadata": {},
   "source": [
    "### Smoking habits in students\n",
    "\n",
    "22 males out of 100\n",
    "\n",
    "31 females out of 100"
   ]
  },
  {
   "cell_type": "code",
   "execution_count": 36,
   "id": "ea8d2f64",
   "metadata": {},
   "outputs": [],
   "source": [
    "# We assume Beta priors Beta(1,2) both for males and females\n",
    "alpha <- 1\n",
    "beta <- 2\n",
    "\n",
    "mean <- alpha / (alpha + beta)\n",
    "var <- alpha*beta / ((alpha + beta)^2 * (alpha + beta + 1))\n",
    "sd <- sqrt(var)"
   ]
  },
  {
   "cell_type": "code",
   "execution_count": 40,
   "id": "22f32062",
   "metadata": {},
   "outputs": [
    {
     "data": {
      "image/png": "[encoded data removed]",
      "text/plain": [
       "plot without title"
      ]
     },
     "metadata": {
      "image/png": {
       "height": 420,
       "width": 420
      }
     },
     "output_type": "display_data"
    }
   ],
   "source": [
    "# Posterior? Beta(alpha + r, beta + n - r)\n",
    "n <- 100\n",
    "r_male <- 22\n",
    "r_female <- 31\n",
    "\n",
    "alpha_m <- alpha + r_male\n",
    "beta_m <- beta + n - r_male\n",
    "\n",
    "alpha_f <- alpha + r_female\n",
    "beta_f <- beta + n - r_female\n",
    "\n",
    "xs <- seq(from = 0, to = 1, by = 0.001)\n",
    "post_m <- dbeta(xs, alpha_m, beta_m)\n",
    "post_f <- dbeta(xs, alpha_f, beta_f)\n",
    "plot(xs, post_m, \"l\", col = \"blue\")\n",
    "lines(xs, post_f, col = \"red\")"
   ]
  },
  {
   "cell_type": "code",
   "execution_count": 42,
   "id": "1303d7af",
   "metadata": {},
   "outputs": [
    {
     "name": "stdout",
     "output_type": "stream",
     "text": [
      "M:  0.223301 0.04083711\n",
      "F:  0.3106796 0.04537851"
     ]
    }
   ],
   "source": [
    "#Evaluate mean and variance for both (gaussian approximation)\n",
    "mean_post <- function(a,b){\n",
    "    a / (a + b)\n",
    "}\n",
    "\n",
    "sd_post <- function(a, b){\n",
    "    sqrt(a*b/((a + b)^2 * (a + b + 1)))\n",
    "}\n",
    "\n",
    "mean_m <- mean_post(alpha_m, beta_m)\n",
    "sd_m <- sd_post(alpha_m, beta_m)\n",
    "\n",
    "mean_f <- mean_post(alpha_f, beta_f)\n",
    "sd_f <- sd_post(alpha_f, beta_f)\n",
    "\n",
    "cat(\"M: \", mean_m, sd_m)\n",
    "cat(\"\\nF: \", mean_f, sd_f)"
   ]
  },
  {
   "cell_type": "code",
   "execution_count": 50,
   "id": "aeaa2438",
   "metadata": {},
   "outputs": [
    {
     "name": "stdout",
     "output_type": "stream",
     "text": [
      "-0.03227358 0.2070309"
     ]
    },
    {
     "data": {
      "image/png": "[encoded data removed]",
      "text/plain": [
       "plot without title"
      ]
     },
     "metadata": {
      "image/png": {
       "height": 420,
       "width": 420
      }
     },
     "output_type": "display_data"
    }
   ],
   "source": [
    "#Evaluate difference and confidence interval\n",
    "diff <- mean_f - mean_m\n",
    "sd_d <- sqrt(sd_m^2 + sd_f^2)\n",
    "\n",
    "xs <- seq(from = -0.5, to = 0.5, by = .001)\n",
    "plot(xs, dnorm(xs, diff, sd_d), \"l\" )\n",
    "\n",
    "#CI\n",
    "cat(qnorm(0.025, diff, sd_d), qnorm(0.975, diff, sd_d))"
   ]
  },
  {
   "cell_type": "markdown",
   "id": "f1911b48",
   "metadata": {},
   "source": [
    "#### Zero lies inside the credibility interval --> we don't reject the null hypothesis $\\pi_m = \\pi_f$."
   ]
  }
 ],
 "metadata": {
  "kernelspec": {
   "display_name": "R",
   "language": "R",
   "name": "ir"
  },
  "language_info": {
   "codemirror_mode": "r",
   "file_extension": ".r",
   "mimetype": "text/x-r-source",
   "name": "R",
   "pygments_lexer": "r",
   "version": "4.1.2"
  }
 },
 "nbformat": 4,
 "nbformat_minor": 5
}
