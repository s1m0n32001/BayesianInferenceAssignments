{
 "cells": [
  {
   "cell_type": "markdown",
   "id": "79299daf",
   "metadata": {},
   "source": [
    "# Advanced Statistics for Physics Analysis\n",
    "## R Lab 02\n",
    "\n",
    "### Student: Toso Simone (2095484)"
   ]
  },
  {
   "cell_type": "code",
   "execution_count": 2,
   "id": "9e4621fe",
   "metadata": {},
   "outputs": [],
   "source": [
    "library(tidyverse)"
   ]
  },
  {
   "cell_type": "markdown",
   "id": "32c17f8b",
   "metadata": {},
   "source": [
    "### Ex.1 - Discrete random variable\n",
    "#### The probability distribution of a given variable is $\\frac{k}{15}$ if $k\\in\\{1,2,3,4,5\\}$, $0$ otherwise.\n",
    " #### - write the R probability functions for the probability density and cumulative distribution functions, following the R naming convention"
   ]
  },
  {
   "cell_type": "code",
   "execution_count": 3,
   "id": "daf03c51",
   "metadata": {},
   "outputs": [],
   "source": [
    "#pdf --> return k/15 or 0\n",
    "dFunc <- function(x){\n",
    "    if(x>=1 && x<=5){\n",
    "        return(x/15)\n",
    "    }\n",
    "    else{\n",
    "        return(0)\n",
    "    }\n",
    "}\n",
    "\n",
    "dFunc <- Vectorize(dFunc) #Vectorize it for future use\n",
    "\n",
    "\n",
    "#CDF(x) = \\sum_{x_i <= x} p(x_i)\n",
    "pFunc <- function(x){\n",
    "    out = 0\n",
    "    #Sum all probabilities for 1,2,...,x\n",
    "    for(i in 0:min(floor(x),5)){\n",
    "        out <- out+dFunc(i)\n",
    "    }\n",
    "    return(out)\n",
    "}\n",
    "pFunc <- Vectorize(pFunc)"
   ]
  },
  {
   "cell_type": "markdown",
   "id": "aa24f9ee",
   "metadata": {},
   "source": [
    "#### - Produce two plots of the pdf and cdf respectively "
   ]
  },
  {
   "cell_type": "code",
   "execution_count": 39,
   "id": "b7d12b2c",
   "metadata": {},
   "outputs": [
    {
     "data": {
      "image/png": "[encoded data removed]",
      "text/plain": [
       "plot without title"
      ]
     },
     "metadata": {
      "image/png": {
       "height": 420,
       "width": 420
      }
     },
     "output_type": "display_data"
    }
   ],
   "source": [
    "xs <- 0:6\n",
    "ds <- dFunc(xs)\n",
    "ps <- pFunc(xs)\n",
    "\n",
    "plot_data <- data.frame(xs,ds,ps)\n",
    "\n",
    "p <- ggplot(data = plot_data, aes(x=xs)) + geom_point(aes(y = ds,color = \"p(x)\"), size = 3) + geom_point(aes(y = ps,color = \"f(x)\"), size = 3, shape = \"diamond\") + ggtitle(\"pdf and cdf\") \n",
    "theme <- theme(legend.text = element_text(size = 12), axis.title = element_text(size = 15), axis.text = element_text(size = 15), plot.title = element_text(face = \"bold\", size = 16))\n",
    "print(p+theme + labs(x = \"x\", y = \"p(x)\", color = NULL))"
   ]
  },
  {
   "cell_type": "markdown",
   "id": "9ab4b07f",
   "metadata": {},
   "source": [
    "#### Compute, using R, the mean value and variance of the probability distribution"
   ]
  },
  {
   "cell_type": "code",
   "execution_count": 5,
   "id": "7e4fc362",
   "metadata": {},
   "outputs": [],
   "source": [
    "#Sum_i p(i)i\n",
    "mean = xs%*%ds #computed as dot product\n",
    "\n",
    "#Sum_i p(i)(x_i-mean)**2\n",
    "var = ds%*%(xs-rep(mean,length(xs)))**2"
   ]
  },
  {
   "cell_type": "code",
   "execution_count": 6,
   "id": "b112bf7a",
   "metadata": {},
   "outputs": [
    {
     "data": {
      "text/html": [
       "<table class=\"dataframe\">\n",
       "<caption>A matrix: 1 × 1 of type dbl</caption>\n",
       "<tbody>\n",
       "\t<tr><td>3.666667</td></tr>\n",
       "</tbody>\n",
       "</table>\n"
      ],
      "text/latex": [
       "A matrix: 1 × 1 of type dbl\n",
       "\\begin{tabular}{l}\n",
       "\t 3.666667\\\\\n",
       "\\end{tabular}\n"
      ],
      "text/markdown": [
       "\n",
       "A matrix: 1 × 1 of type dbl\n",
       "\n",
       "| 3.666667 |\n",
       "\n"
      ],
      "text/plain": [
       "     [,1]    \n",
       "[1,] 3.666667"
      ]
     },
     "metadata": {},
     "output_type": "display_data"
    }
   ],
   "source": [
    "mean"
   ]
  },
  {
   "cell_type": "code",
   "execution_count": 7,
   "id": "5b4e53bd",
   "metadata": {},
   "outputs": [
    {
     "data": {
      "text/html": [
       "<table class=\"dataframe\">\n",
       "<caption>A matrix: 1 × 1 of type dbl</caption>\n",
       "<tbody>\n",
       "\t<tr><td>1.555556</td></tr>\n",
       "</tbody>\n",
       "</table>\n"
      ],
      "text/latex": [
       "A matrix: 1 × 1 of type dbl\n",
       "\\begin{tabular}{l}\n",
       "\t 1.555556\\\\\n",
       "\\end{tabular}\n"
      ],
      "text/markdown": [
       "\n",
       "A matrix: 1 × 1 of type dbl\n",
       "\n",
       "| 1.555556 |\n",
       "\n"
      ],
      "text/plain": [
       "     [,1]    \n",
       "[1,] 1.555556"
      ]
     },
     "metadata": {},
     "output_type": "display_data"
    }
   ],
   "source": [
    "var"
   ]
  },
  {
   "cell_type": "markdown",
   "id": "94f1fae1",
   "metadata": {},
   "source": [
    "#### Compute, using R, the expected value E [k (6 − k)]"
   ]
  },
  {
   "cell_type": "code",
   "execution_count": 8,
   "id": "bdc93693",
   "metadata": {},
   "outputs": [
    {
     "data": {
      "text/html": [
       "<table class=\"dataframe\">\n",
       "<caption>A matrix: 1 × 1 of type dbl</caption>\n",
       "<tbody>\n",
       "\t<tr><td>7</td></tr>\n",
       "</tbody>\n",
       "</table>\n"
      ],
      "text/latex": [
       "A matrix: 1 × 1 of type dbl\n",
       "\\begin{tabular}{l}\n",
       "\t 7\\\\\n",
       "\\end{tabular}\n"
      ],
      "text/markdown": [
       "\n",
       "A matrix: 1 × 1 of type dbl\n",
       "\n",
       "| 7 |\n",
       "\n"
      ],
      "text/plain": [
       "     [,1]\n",
       "[1,] 7   "
      ]
     },
     "metadata": {},
     "output_type": "display_data"
    }
   ],
   "source": [
    "ds%*%(xs*(rep(6,length(xs))-xs))"
   ]
  },
  {
   "cell_type": "markdown",
   "id": "a26bf5f0",
   "metadata": {},
   "source": [
    "#### Write the R function that allows to sample random numbers from the probability distribution"
   ]
  },
  {
   "cell_type": "code",
   "execution_count": 9,
   "id": "0ff594a4",
   "metadata": {},
   "outputs": [],
   "source": [
    "rFunc <- function(N){\n",
    "    output <- list()\n",
    "    for(i in 1:N){\n",
    "        r <- runif(1)\n",
    "        output[[i]] <- xs[pFunc(xs) > r][1]\n",
    "    }\n",
    "    return(unlist(output))\n",
    "}"
   ]
  },
  {
   "cell_type": "markdown",
   "id": "b89c244f",
   "metadata": {},
   "source": [
    "#### Using the implemented function, sample $10^5$ random numbers from this distribution and plot them in a graph showing the distribution of the numbers superimposed to the pdf (normalize properly the plots with random numbers)"
   ]
  },
  {
   "cell_type": "code",
   "execution_count": 10,
   "id": "4f8f42c3",
   "metadata": {},
   "outputs": [],
   "source": [
    "samples <- rFunc(100000)"
   ]
  },
  {
   "cell_type": "code",
   "execution_count": 11,
   "id": "1388ef2f",
   "metadata": {},
   "outputs": [],
   "source": [
    "df = as.data.frame(samples)"
   ]
  },
  {
   "cell_type": "code",
   "execution_count": 12,
   "id": "2256405c",
   "metadata": {},
   "outputs": [
    {
     "name": "stderr",
     "output_type": "stream",
     "text": [
      "Warning message:\n",
      "“\u001b[1m\u001b[22mThe dot-dot notation (`..count..`) was deprecated in ggplot2 3.4.0.\n",
      "\u001b[36mℹ\u001b[39m Please use `after_stat(count)` instead.”\n"
     ]
    },
    {
     "data": {
      "image/png": "[encoded data removed]",
      "text/plain": [
       "plot without title"
      ]
     },
     "metadata": {
      "image/png": {
       "height": 420,
       "width": 420
      }
     },
     "output_type": "display_data"
    }
   ],
   "source": [
    "plot <- ggplot(df, aes(x = samples)) + geom_histogram(aes(y=..count../sum(..count..)),bins = 5, colour=\"black\", fill=\"white\") \n",
    "labels <- labs(x = \"X\", y = \"p(x)\")\n",
    "print(plot + labels + theme + ggtitle(\"Histogram of the sampled data\"))"
   ]
  },
  {
   "cell_type": "markdown",
   "id": "7420749a",
   "metadata": {},
   "source": [
    "### Exercise 2 - Continuous random variable\n",
    "The triangular distribution, in the interval (a, b), is given by the following: 2(x − a)\n",
    "(b − a)(c − a) a ≤ x < c\n",
    "2(b − x)\n",
    "(b − a)(b − c) c ≤ x ≤ b\n",
    "0 otherwise\n",
    "where c ∈ [a, b].\n",
    "#### a) plot the function, given the interval (a, b)"
   ]
  },
  {
   "cell_type": "code",
   "execution_count": 13,
   "id": "f46a817d",
   "metadata": {},
   "outputs": [],
   "source": [
    "a <- 5\n",
    "b <- 10\n",
    "c <- 7\n",
    "\n",
    "xs <- seq(from = 5, to = 10, length.out = 1000)\n",
    "f <- function(x){\n",
    "    if(a <= x && x < c){\n",
    "        return(2*(x-a)/((b-a)*(c-a)))\n",
    "    }\n",
    "    else if(c <= x && x <= b){\n",
    "        return(2*(b-x)/((b-a)*(b-c)))\n",
    "    }\n",
    "    else\n",
    "        {\n",
    "        return(0)\n",
    "    }\n",
    "}\n",
    "\n",
    "f <- Vectorize(f)"
   ]
  },
  {
   "cell_type": "code",
   "execution_count": 14,
   "id": "3b6af51b",
   "metadata": {},
   "outputs": [
    {
     "data": {
      "image/png": "[encoded data removed]",
      "text/plain": [
       "plot without title"
      ]
     },
     "metadata": {
      "image/png": {
       "height": 420,
       "width": 420
      }
     },
     "output_type": "display_data"
    }
   ],
   "source": [
    "fs <- f(xs)\n",
    "data <- data.frame(xs,fs)\n",
    "ggplot(data = data, aes(x = xs, y = fs)) + geom_line() + theme + labs(x = \"x\", y = \"f(x)\") + ggtitle(\"Triangular function (a = 5, b = 10, c = 7)\")"
   ]
  },
  {
   "cell_type": "markdown",
   "id": "c3d816b0",
   "metadata": {},
   "source": [
    "#### b) Write an algorithm to generate random numbers from the triangular distribution"
   ]
  },
  {
   "cell_type": "markdown",
   "id": "013e3af0",
   "metadata": {},
   "source": [
    "Integrating the analytical expression of the triangular distribution we get that the cumulative function is\n",
    "$F(x) = \\frac{(x-a)^2}{(b-a)(c-a)}$ if $a \\leq x\\leq c$ and $F(x) = \\frac{(c-a)}{(b-a)}-\\frac{(b-x)^2}{(b-a)(b-c)} + \\frac{(b-c)}{(b-a)}$ if $ c < x \\leq b$. By inverting these expression we can use inverse sampling."
   ]
  },
  {
   "cell_type": "code",
   "execution_count": 15,
   "id": "ace2a6e5",
   "metadata": {},
   "outputs": [],
   "source": [
    "#Inverse sampling. \n",
    "\n",
    "rTriangular <- function(N){\n",
    "    output <- list()\n",
    "    for(i in 1:N){\n",
    "        u <- runif(1)\n",
    "        x <- ifelse(u <= (c-a)/(b-a), sqrt(u*(b-a)*(c-a))+a, b-sqrt((c-a)*(b-c)+(b-c)**2-u*(b-a)*(b-c)) )\n",
    "        output[[i]] <- x\n",
    "    }\n",
    "    return(unlist(output))\n",
    "}"
   ]
  },
  {
   "cell_type": "markdown",
   "id": "310bc47b",
   "metadata": {},
   "source": [
    "#### Generate $10^4$ random number from the distribution, show them in an histogram and superimpose the analytical curve"
   ]
  },
  {
   "cell_type": "code",
   "execution_count": 16,
   "id": "1e1272b7",
   "metadata": {},
   "outputs": [],
   "source": [
    "samples <- rTriangular(10000)\n",
    "dataSamples <- data.frame(samples)"
   ]
  },
  {
   "cell_type": "code",
   "execution_count": 17,
   "id": "0cf48e9e",
   "metadata": {},
   "outputs": [
    {
     "data": {
      "image/png": "[encoded data removed]",
      "text/plain": [
       "plot without title"
      ]
     },
     "metadata": {
      "image/png": {
       "height": 420,
       "width": 420
      }
     },
     "output_type": "display_data"
    }
   ],
   "source": [
    "plot <- ggplot(data = dataSamples, aes(x=samples)) + geom_histogram(aes(y =..density..), bins = 50, colour=\"black\", fill=\"white\")\n",
    "labels <- labs(x = \"x\", y = \"p(x)\")\n",
    "title <- ggtitle(\"Triangular distribution - inverse sampling\")\n",
    "plot <- plot + labels + title\n",
    "print(plot+geom_line(data = data, aes(x = xs, y = fs), color = \"firebrick\", linewidth = 1.2)+theme)"
   ]
  },
  {
   "cell_type": "markdown",
   "id": "c6b2cd5b",
   "metadata": {},
   "source": [
    "### Ex.3 \n",
    "The waiting time, in minutes, at the doctor’s is about 30 minutes, and the distribution follows an\n",
    "exponential pdf with rate 1/30\n",
    "#### a)  Simulate the waiting time for 60 people at the doctor’s office and plot the relative histogram"
   ]
  },
  {
   "cell_type": "code",
   "execution_count": 32,
   "id": "5e883f5c",
   "metadata": {},
   "outputs": [
    {
     "data": {
      "image/png": "[encoded data removed]",
      "text/plain": [
       "plot without title"
      ]
     },
     "metadata": {
      "image/png": {
       "height": 420,
       "width": 420
      }
     },
     "output_type": "display_data"
    }
   ],
   "source": [
    "lambda <- 1/30\n",
    "data <- as_tibble(data.frame(times = rexp(60, rate=lambda)))\n",
    "ggplot() + geom_histogram(data = data, aes(x = times, y = ..density..), bins = 6, colour = \"black\", fill = \"white\") + theme + labs(x = \"Waiting time\", y = \"p(time)\") + ggtitle(\"Histogram of waiting times, 60 samples\")"
   ]
  },
  {
   "cell_type": "markdown",
   "id": "250f00d9",
   "metadata": {},
   "source": [
    "#### b) What is the probability that a person will wait for less than 12 minutes ?\n",
    "\n",
    "#### With R simulation:"
   ]
  },
  {
   "cell_type": "code",
   "execution_count": 33,
   "id": "8b23045a",
   "metadata": {},
   "outputs": [
    {
     "data": {
      "text/html": [
       "0.366666666666667"
      ],
      "text/latex": [
       "0.366666666666667"
      ],
      "text/markdown": [
       "0.366666666666667"
      ],
      "text/plain": [
       "[1] 0.3666667"
      ]
     },
     "metadata": {},
     "output_type": "display_data"
    }
   ],
   "source": [
    "probLess12 <- length(data[data$times<12,]$times)/length(data$times)\n",
    "probLess12"
   ]
  },
  {
   "cell_type": "markdown",
   "id": "f36b2f24",
   "metadata": {},
   "source": [
    "#### Theoretical answer:\n",
    "$p(t<12) = \\int_{0}^{12}\\lambda e^{-\\lambda x}dx = \\left[-e^{-\\lambda x}\\right]^{12}_0 = 1-e^{-\\lambda\\cdot 12} = 1-e^{-\\frac{12}{30}} \\approx 0.33$"
   ]
  },
  {
   "cell_type": "code",
   "execution_count": 34,
   "id": "ffdd39a8",
   "metadata": {},
   "outputs": [
    {
     "data": {
      "text/html": [
       "0.329679953964361"
      ],
      "text/latex": [
       "0.329679953964361"
      ],
      "text/markdown": [
       "0.329679953964361"
      ],
      "text/plain": [
       "[1] 0.32968"
      ]
     },
     "metadata": {},
     "output_type": "display_data"
    }
   ],
   "source": [
    "1-exp(-12/30)"
   ]
  },
  {
   "cell_type": "markdown",
   "id": "0b1cf360",
   "metadata": {},
   "source": [
    "If we had sampled more points, the observed fraction of waiting times would tend to the theoretical one. \n",
    "For example:"
   ]
  },
  {
   "cell_type": "code",
   "execution_count": 35,
   "id": "46464e33",
   "metadata": {},
   "outputs": [
    {
     "data": {
      "text/html": [
       "0.330566666666667"
      ],
      "text/latex": [
       "0.330566666666667"
      ],
      "text/markdown": [
       "0.330566666666667"
      ],
      "text/plain": [
       "[1] 0.3305667"
      ]
     },
     "metadata": {},
     "output_type": "display_data"
    }
   ],
   "source": [
    "dataMore <- as_tibble(data.frame(times = rexp(60000, rate=lambda)))\n",
    "probLess12_moreData <- length(dataMore[dataMore$times<12,]$times)/length(dataMore$times)\n",
    "probLess12_moreData"
   ]
  },
  {
   "cell_type": "markdown",
   "id": "bc098f2a",
   "metadata": {},
   "source": [
    "#### c) Evaluate the average waiting time from the simulated data and compare it with the expected value (calculated from theory and by manipulating the probability distributions using R)"
   ]
  },
  {
   "cell_type": "code",
   "execution_count": 36,
   "id": "b628b87c",
   "metadata": {},
   "outputs": [
    {
     "data": {
      "text/html": [
       "29.4603486778232"
      ],
      "text/latex": [
       "29.4603486778232"
      ],
      "text/markdown": [
       "29.4603486778232"
      ],
      "text/plain": [
       "[1] 29.46035"
      ]
     },
     "metadata": {},
     "output_type": "display_data"
    },
    {
     "data": {
      "text/plain": [
       "30 with absolute error < 2.5e-05"
      ]
     },
     "metadata": {},
     "output_type": "display_data"
    },
    {
     "data": {
      "text/html": [
       "30"
      ],
      "text/latex": [
       "30"
      ],
      "text/markdown": [
       "30"
      ],
      "text/plain": [
       "[1] 30"
      ]
     },
     "metadata": {},
     "output_type": "display_data"
    }
   ],
   "source": [
    "#Simulated average\n",
    "mean_samples <- mean(data$times)\n",
    "\n",
    "#Mean value through numerical integration of the pdf\n",
    "mean_int <- integrate(function(x){x * dexp(x,rate = lambda)},lower = 0, upper=Inf)\n",
    "\n",
    "#Theoretical mean value is 1/lambda = 30 minutes\n",
    "\n",
    "(mean_samples)\n",
    "(mean_int)\n",
    "(1/lambda)"
   ]
  },
  {
   "cell_type": "markdown",
   "id": "d1441484",
   "metadata": {},
   "source": [
    "The theoretical expectation value is $30$ minutes. Through numerical integration of the pdf we get the same result. \n",
    "The average on the dataset is 33.4 minutes. If we had more data, the computed average would be closer to the theoretical one, as shown below:"
   ]
  },
  {
   "cell_type": "code",
   "execution_count": 37,
   "id": "70e6fbdc",
   "metadata": {},
   "outputs": [
    {
     "data": {
      "text/html": [
       "29.8935208984638"
      ],
      "text/latex": [
       "29.8935208984638"
      ],
      "text/markdown": [
       "29.8935208984638"
      ],
      "text/plain": [
       "[1] 29.89352"
      ]
     },
     "metadata": {},
     "output_type": "display_data"
    }
   ],
   "source": [
    "mean(dataMore$times)"
   ]
  },
  {
   "cell_type": "markdown",
   "id": "4c92a409",
   "metadata": {},
   "source": [
    "#### d) What is the probability of waiting more than one hour before being received?"
   ]
  },
  {
   "cell_type": "markdown",
   "id": "1f411a0b",
   "metadata": {},
   "source": [
    "From theory: \n",
    "$p(t > 60\\text{ min}) = \\int_{60}^{+\\infty}\\lambda e^{-\\lambda x} dx = \\left[-e^{-\\lambda x}\\right]^{+\\infty}_{60} = e^{-\\frac{60}{30}} = e^{-2} \\approx 0.135 $.\n",
    "\n",
    "From R simulation:"
   ]
  },
  {
   "cell_type": "code",
   "execution_count": 38,
   "id": "abf820f8",
   "metadata": {},
   "outputs": [
    {
     "data": {
      "text/html": [
       "0.133333333333333"
      ],
      "text/latex": [
       "0.133333333333333"
      ],
      "text/markdown": [
       "0.133333333333333"
      ],
      "text/plain": [
       "[1] 0.1333333"
      ]
     },
     "metadata": {},
     "output_type": "display_data"
    }
   ],
   "source": [
    "pMoreHour <- length(data[data$times > 60,]$times)/length(data$times)\n",
    "pMoreHour"
   ]
  },
  {
   "cell_type": "markdown",
   "id": "3a77337c",
   "metadata": {},
   "source": [
    "### Ex 4 - Multiple choices exams\n",
    "The final exam of a course is given to the students in the format of a multiple choice written test:\n",
    "for each questions there are five possible alternatives.\n",
    "\n",
    "- A student either knows the answer, or selects randomly the answer among the five possible choices\n",
    "- Assuming p = 0.7 the probability that the student knows the answer, once a correct answer is given, what is the probability that the student really knew the correct answer ?\n",
    "    \n",
    "- Write a small R program to provide the answer"
   ]
  },
  {
   "cell_type": "markdown",
   "id": "c1809d23",
   "metadata": {},
   "source": [
    "#### Theoretical answer:\n",
    "We can use Bayes' Theorem to figure it out. We have $p(knew|correct) = \\frac{p(correct|knew)p(knew)}{p(correct|knew)p(knew)+p(correct|\\neg knew)p(\\neg knew)} = \\frac{1\\cdot0.7}{1\\cdot0.7+0.2\\cdot0.3} = \\frac{0.7}{0.76} \\approx 0.92$"
   ]
  },
  {
   "cell_type": "code",
   "execution_count": 26,
   "id": "732d61d6",
   "metadata": {},
   "outputs": [
    {
     "data": {
      "text/html": [
       "0.921052631578947"
      ],
      "text/latex": [
       "0.921052631578947"
      ],
      "text/markdown": [
       "0.921052631578947"
      ],
      "text/plain": [
       "[1] 0.9210526"
      ]
     },
     "metadata": {},
     "output_type": "display_data"
    }
   ],
   "source": [
    "0.7/0.76"
   ]
  },
  {
   "cell_type": "markdown",
   "id": "169c2e24",
   "metadata": {},
   "source": [
    "#### R simulation:"
   ]
  },
  {
   "cell_type": "code",
   "execution_count": 27,
   "id": "0aa9b4c1",
   "metadata": {},
   "outputs": [
    {
     "data": {
      "text/html": [
       "0.921121675355195"
      ],
      "text/latex": [
       "0.921121675355195"
      ],
      "text/markdown": [
       "0.921121675355195"
      ],
      "text/plain": [
       "[1] 0.9211217"
      ]
     },
     "metadata": {},
     "output_type": "display_data"
    }
   ],
   "source": [
    "#Simulate the result of one question for N students (with N >> 1). \n",
    "\n",
    "N <- 500000\n",
    "knew <- sample(c(TRUE,FALSE), N, replace = TRUE, prob = c(0.7,0.3)) #Did each student know?\n",
    "correct <- list()\n",
    "for(i in 1:N){\n",
    "    correct[[i]] <- ifelse(knew[i], TRUE, sample(c(TRUE,FALSE), size = 1, prob = c(0.2,0.8))) # Got answer right?\n",
    "} \n",
    "correct <- unlist(correct)\n",
    "nCorrect <- sum(correct) #How many got it right?\n",
    "nKnewCorrect <- sum(correct[knew]) #How many got it right and knew?\n",
    "pKnewCorrect <- nKnewCorrect/nCorrect #p(knew|correct)\n",
    "pKnewCorrect"
   ]
  },
  {
   "cell_type": "markdown",
   "id": "2d1a47d0",
   "metadata": {},
   "source": [
    "### Exercise 5 - Waiting time\n",
    "Starting from 5:00 in the morning, every half an hour there is a train from Milano Centrale to Roma\n",
    "Termini. We assume there is always an available seat on a train leaving from Milano\n",
    "\n",
    "Assuming a person arrives at a random time between 10:45 and 11:45 and compute the probability\n",
    "that she has to wait\n",
    "\n",
    "a) at most 10 minutes\n",
    "\n",
    "b) at least 15 minutes\n",
    "\n",
    "c) what is the average time spent waiting ?"
   ]
  },
  {
   "cell_type": "markdown",
   "id": "1f246f06",
   "metadata": {},
   "source": [
    "#### R simulation:"
   ]
  },
  {
   "cell_type": "code",
   "execution_count": 28,
   "id": "832c3b6b",
   "metadata": {},
   "outputs": [
    {
     "name": "stdout",
     "output_type": "stream",
     "text": [
      "[1] \"Probability of waiting at most 10 minutes:  0.33302\"\n",
      "[1] \"Probability of waiting at least 15 minutes:  0.49885\"\n",
      "[1] \"Average waiting time in minutes:  15.0053107186463\"\n"
     ]
    }
   ],
   "source": [
    "#Let's compute waiting times for N >> 1 passengers and evaluate desired quantities\n",
    "N <- 100000\n",
    "trains <- c(11,11.5,12) #working with fractions of hours\n",
    "waitingTimes <- list()\n",
    "for(i in 1:N){\n",
    "    arrival <- runif(1, 10.75,11.75)\n",
    "    waitingTime <- abs(arrival - min(trains[trains > arrival]))#time to first train available\n",
    "    waitingTimes[[i]] <- waitingTime\n",
    "}\n",
    "waitingTimes <- unlist(waitingTimes)\n",
    "\n",
    "pMost10 <- length(waitingTimes[waitingTimes < 1/6])/length(waitingTimes)\n",
    "print(paste(\"Probability of waiting at most 10 minutes: \", pMost10))\n",
    "\n",
    "pLeast15 <- length(waitingTimes[waitingTimes > 1/4])/length(waitingTimes)\n",
    "print(paste(\"Probability of waiting at least 15 minutes: \", pLeast15))\n",
    "\n",
    "average <- mean(waitingTimes)*60 #in minutes\n",
    "print(paste(\"Average waiting time in minutes: \", average))"
   ]
  },
  {
   "cell_type": "markdown",
   "id": "77789179",
   "metadata": {},
   "source": [
    "### Exercise 6 - stock investment\n",
    " - The annual return rate for a specific stock on the market is a normal variable with a 10% mean and a 12% standard deviation\n",
    " - Mr X decides to buy 200 shares of that specific stock at a price of 85 euros per share\n",
    " - What is the probability that after a year his net profit from the investment is at least 800 euro ?\n",
    " \n",
    " (suppose there are no transaction costs and that there are no annual dividend for the stock)"
   ]
  },
  {
   "cell_type": "code",
   "execution_count": 29,
   "id": "3779b412",
   "metadata": {},
   "outputs": [
    {
     "name": "stdout",
     "output_type": "stream",
     "text": [
      "[1] \"Probability of gaining 800 euros:  0.670457377028878\"\n"
     ]
    }
   ],
   "source": [
    "initialExpense <- 85*200\n",
    "desiredGain <- 800\n",
    "desiredGainFraction <- desiredGain/initialExpense\n",
    "\n",
    "#p(return >= desiredGainFraction) = 1 - p(return < desiredGainFraction) = 1 - cumulativeOfNormalDistribution()\n",
    "probability <- 1 - pnorm(desiredGainFraction, 0.1, 0.12)\n",
    "print(paste(\"Probability of gaining 800 euros: \",probability))"
   ]
  },
  {
   "cell_type": "markdown",
   "id": "9f706ef7",
   "metadata": {},
   "source": [
    "We could also evaluate it with a simulation"
   ]
  },
  {
   "cell_type": "code",
   "execution_count": 30,
   "id": "39cfdf96",
   "metadata": {},
   "outputs": [
    {
     "name": "stdout",
     "output_type": "stream",
     "text": [
      "[1] \"Probability of gaining 800 euros 0.67005\"\n"
     ]
    }
   ],
   "source": [
    "#Evaluate for N >> 1 investors\n",
    "N <- 100000\n",
    "initialExpense <- 85*200\n",
    "desiredMoney <- 85*200+800\n",
    "successes <- 0\n",
    "for(i in 1:N){\n",
    "    rate <- rnorm(1, mean = 0.1, sd = 0.12)\n",
    "    if(initialExpense*(1+rate) > (desiredMoney)){\n",
    "        successes <- successes + 1\n",
    "    }\n",
    "}\n",
    "\n",
    "print(paste(\"Probability of gaining 800 euros\", successes/N))"
   ]
  }
 ],
 "metadata": {
  "kernelspec": {
   "display_name": "R",
   "language": "R",
   "name": "ir"
  },
  "language_info": {
   "codemirror_mode": "r",
   "file_extension": ".r",
   "mimetype": "text/x-r-source",
   "name": "R",
   "pygments_lexer": "r",
   "version": "4.1.2"
  }
 },
 "nbformat": 4,
 "nbformat_minor": 5
}
